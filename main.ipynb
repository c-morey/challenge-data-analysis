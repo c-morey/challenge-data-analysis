{
 "cells": [
  {
   "cell_type": "markdown",
   "metadata": {},
   "source": [
    "### Import necessary libraries"
   ]
  },
  {
   "cell_type": "code",
   "execution_count": 1,
   "metadata": {},
   "outputs": [],
   "source": [
    "import pandas as pd\n",
    "import matplotlib.pyplot as plt\n",
    "import seaborn as sns"
   ]
  },
  {
   "cell_type": "markdown",
   "metadata": {},
   "source": [
    "### Read the data with pandas dataframe"
   ]
  },
  {
   "cell_type": "code",
   "execution_count": 2,
   "metadata": {},
   "outputs": [
    {
     "data": {
      "text/html": [
       "<div>\n",
       "<style scoped>\n",
       "    .dataframe tbody tr th:only-of-type {\n",
       "        vertical-align: middle;\n",
       "    }\n",
       "\n",
       "    .dataframe tbody tr th {\n",
       "        vertical-align: top;\n",
       "    }\n",
       "\n",
       "    .dataframe thead th {\n",
       "        text-align: right;\n",
       "    }\n",
       "</style>\n",
       "<table border=\"1\" class=\"dataframe\">\n",
       "  <thead>\n",
       "    <tr style=\"text-align: right;\">\n",
       "      <th></th>\n",
       "      <th>Bedroom</th>\n",
       "      <th>Property Type</th>\n",
       "      <th>Property Subtype</th>\n",
       "      <th>Price</th>\n",
       "      <th>Location</th>\n",
       "      <th>Province</th>\n",
       "      <th>Living area</th>\n",
       "      <th>Kitchen Type</th>\n",
       "      <th>Furnished</th>\n",
       "      <th>HasFireplace</th>\n",
       "      <th>How many fireplaces?</th>\n",
       "      <th>HasGarden</th>\n",
       "      <th>Garden surface</th>\n",
       "      <th>HasTerrace</th>\n",
       "      <th>Terrace surface</th>\n",
       "      <th>Surface of the plot</th>\n",
       "      <th>Number of frontages</th>\n",
       "      <th>Swimming pool</th>\n",
       "      <th>Building condition</th>\n",
       "    </tr>\n",
       "  </thead>\n",
       "  <tbody>\n",
       "    <tr>\n",
       "      <th>0</th>\n",
       "      <td>1</td>\n",
       "      <td>Apartment</td>\n",
       "      <td>Apartment</td>\n",
       "      <td>375,000</td>\n",
       "      <td>1160</td>\n",
       "      <td>Brussels</td>\n",
       "      <td>76</td>\n",
       "      <td>USA hyper equipped</td>\n",
       "      <td>No</td>\n",
       "      <td>No</td>\n",
       "      <td>0</td>\n",
       "      <td>No</td>\n",
       "      <td>0</td>\n",
       "      <td>Yes</td>\n",
       "      <td>25</td>\n",
       "      <td>0</td>\n",
       "      <td>0</td>\n",
       "      <td>No</td>\n",
       "      <td>As new</td>\n",
       "    </tr>\n",
       "    <tr>\n",
       "      <th>1</th>\n",
       "      <td>2</td>\n",
       "      <td>Apartment</td>\n",
       "      <td>Apartment</td>\n",
       "      <td>249,000</td>\n",
       "      <td>9700</td>\n",
       "      <td>Oost-vlaanderen</td>\n",
       "      <td>97</td>\n",
       "      <td>Installed</td>\n",
       "      <td>No</td>\n",
       "      <td>No</td>\n",
       "      <td>0</td>\n",
       "      <td>No</td>\n",
       "      <td>0</td>\n",
       "      <td>No</td>\n",
       "      <td>0</td>\n",
       "      <td>0</td>\n",
       "      <td>4</td>\n",
       "      <td>No</td>\n",
       "      <td>Good</td>\n",
       "    </tr>\n",
       "    <tr>\n",
       "      <th>2</th>\n",
       "      <td>2</td>\n",
       "      <td>Apartment</td>\n",
       "      <td>Apartment</td>\n",
       "      <td>275,000</td>\n",
       "      <td>1080</td>\n",
       "      <td>Brussels</td>\n",
       "      <td>98</td>\n",
       "      <td>Hyper equipped</td>\n",
       "      <td>No</td>\n",
       "      <td>No</td>\n",
       "      <td>0</td>\n",
       "      <td>No</td>\n",
       "      <td>0</td>\n",
       "      <td>Yes</td>\n",
       "      <td>4</td>\n",
       "      <td>0</td>\n",
       "      <td>2</td>\n",
       "      <td>No</td>\n",
       "      <td>As new</td>\n",
       "    </tr>\n",
       "    <tr>\n",
       "      <th>3</th>\n",
       "      <td>3</td>\n",
       "      <td>House</td>\n",
       "      <td>Town-house</td>\n",
       "      <td>435,000</td>\n",
       "      <td>1785</td>\n",
       "      <td>Vlaams-brabant</td>\n",
       "      <td>213</td>\n",
       "      <td>Hyper equipped</td>\n",
       "      <td>No</td>\n",
       "      <td>No</td>\n",
       "      <td>0</td>\n",
       "      <td>Yes</td>\n",
       "      <td>138</td>\n",
       "      <td>Yes</td>\n",
       "      <td>7</td>\n",
       "      <td>249</td>\n",
       "      <td>2</td>\n",
       "      <td>No</td>\n",
       "      <td>Just renovated</td>\n",
       "    </tr>\n",
       "    <tr>\n",
       "      <th>4</th>\n",
       "      <td>5</td>\n",
       "      <td>House</td>\n",
       "      <td>House</td>\n",
       "      <td>750,000</td>\n",
       "      <td>1150</td>\n",
       "      <td>Brussels</td>\n",
       "      <td>260</td>\n",
       "      <td>Installed</td>\n",
       "      <td>No</td>\n",
       "      <td>No</td>\n",
       "      <td>0</td>\n",
       "      <td>No</td>\n",
       "      <td>0</td>\n",
       "      <td>No</td>\n",
       "      <td>0</td>\n",
       "      <td>110</td>\n",
       "      <td>2</td>\n",
       "      <td>No</td>\n",
       "      <td>Good</td>\n",
       "    </tr>\n",
       "  </tbody>\n",
       "</table>\n",
       "</div>"
      ],
      "text/plain": [
       "   Bedroom Property Type Property Subtype    Price  Location         Province  \\\n",
       "0        1     Apartment        Apartment  375,000      1160         Brussels   \n",
       "1        2     Apartment        Apartment  249,000      9700  Oost-vlaanderen   \n",
       "2        2     Apartment        Apartment  275,000      1080         Brussels   \n",
       "3        3         House       Town-house  435,000      1785   Vlaams-brabant   \n",
       "4        5         House            House  750,000      1150         Brussels   \n",
       "\n",
       "   Living area        Kitchen Type Furnished HasFireplace  \\\n",
       "0           76  USA hyper equipped        No           No   \n",
       "1           97           Installed        No           No   \n",
       "2           98      Hyper equipped        No           No   \n",
       "3          213      Hyper equipped        No           No   \n",
       "4          260           Installed        No           No   \n",
       "\n",
       "   How many fireplaces? HasGarden  Garden surface HasTerrace  Terrace surface  \\\n",
       "0                     0        No               0        Yes               25   \n",
       "1                     0        No               0         No                0   \n",
       "2                     0        No               0        Yes                4   \n",
       "3                     0       Yes             138        Yes                7   \n",
       "4                     0        No               0         No                0   \n",
       "\n",
       "  Surface of the plot  Number of frontages Swimming pool Building condition  \n",
       "0                   0                    0            No             As new  \n",
       "1                   0                    4            No               Good  \n",
       "2                   0                    2            No             As new  \n",
       "3                 249                    2            No     Just renovated  \n",
       "4                 110                    2            No               Good  "
      ]
     },
     "execution_count": 2,
     "metadata": {},
     "output_type": "execute_result"
    }
   ],
   "source": [
    "df = pd.read_csv('/Users/cerenmorey/Desktop/Final Data Analysis Project/immolisa_scrapped_data.csv',skipinitialspace=True)\n",
    "df.head() #Check the top 5 rows"
   ]
  },
  {
   "cell_type": "code",
   "execution_count": 3,
   "metadata": {
    "scrolled": true
   },
   "outputs": [
    {
     "name": "stdout",
     "output_type": "stream",
     "text": [
      "<class 'pandas.core.frame.DataFrame'>\n",
      "RangeIndex: 9256 entries, 0 to 9255\n",
      "Data columns (total 19 columns):\n",
      " #   Column                Non-Null Count  Dtype \n",
      "---  ------                --------------  ----- \n",
      " 0   Bedroom               9256 non-null   int64 \n",
      " 1   Property Type         9256 non-null   object\n",
      " 2   Property Subtype      9256 non-null   object\n",
      " 3   Price                 9256 non-null   object\n",
      " 4   Location              9256 non-null   int64 \n",
      " 5   Province              9256 non-null   object\n",
      " 6   Living area           9256 non-null   int64 \n",
      " 7   Kitchen Type          9256 non-null   object\n",
      " 8   Furnished             9256 non-null   object\n",
      " 9   HasFireplace          9256 non-null   object\n",
      " 10  How many fireplaces?  9256 non-null   int64 \n",
      " 11  HasGarden             9256 non-null   object\n",
      " 12  Garden surface        9256 non-null   int64 \n",
      " 13  HasTerrace            9256 non-null   object\n",
      " 14  Terrace surface       9256 non-null   int64 \n",
      " 15  Surface of the plot   9256 non-null   object\n",
      " 16  Number of frontages   9256 non-null   int64 \n",
      " 17  Swimming pool         9256 non-null   object\n",
      " 18  Building condition    9256 non-null   object\n",
      "dtypes: int64(7), object(12)\n",
      "memory usage: 1.3+ MB\n"
     ]
    }
   ],
   "source": [
    "#Check general dataset information\n",
    "df.info()"
   ]
  },
  {
   "cell_type": "markdown",
   "metadata": {},
   "source": [
    "## Data Cleaning"
   ]
  },
  {
   "cell_type": "code",
   "execution_count": 11,
   "metadata": {},
   "outputs": [],
   "source": [
    "#Remove duplicate listing\n",
    "\n",
    "df.drop_duplicates(['Location','Property Type','Property Subtype','Price','Bedroom','Living area'], keep='first', inplace=True, ignore_index=True)\n"
   ]
  },
  {
   "cell_type": "code",
   "execution_count": 12,
   "metadata": {},
   "outputs": [
    {
     "data": {
      "text/html": [
       "<div>\n",
       "<style scoped>\n",
       "    .dataframe tbody tr th:only-of-type {\n",
       "        vertical-align: middle;\n",
       "    }\n",
       "\n",
       "    .dataframe tbody tr th {\n",
       "        vertical-align: top;\n",
       "    }\n",
       "\n",
       "    .dataframe thead th {\n",
       "        text-align: right;\n",
       "    }\n",
       "</style>\n",
       "<table border=\"1\" class=\"dataframe\">\n",
       "  <thead>\n",
       "    <tr style=\"text-align: right;\">\n",
       "      <th></th>\n",
       "      <th>Bedroom</th>\n",
       "      <th>Property Type</th>\n",
       "      <th>Property Subtype</th>\n",
       "      <th>Price</th>\n",
       "      <th>Location</th>\n",
       "      <th>Province</th>\n",
       "      <th>Living area</th>\n",
       "      <th>Kitchen Type</th>\n",
       "      <th>Furnished</th>\n",
       "      <th>HasFireplace</th>\n",
       "      <th>How many fireplaces?</th>\n",
       "      <th>HasGarden</th>\n",
       "      <th>Garden surface</th>\n",
       "      <th>HasTerrace</th>\n",
       "      <th>Terrace surface</th>\n",
       "      <th>Surface of the plot</th>\n",
       "      <th>Number of frontages</th>\n",
       "      <th>Swimming pool</th>\n",
       "      <th>Building condition</th>\n",
       "    </tr>\n",
       "  </thead>\n",
       "  <tbody>\n",
       "  </tbody>\n",
       "</table>\n",
       "</div>"
      ],
      "text/plain": [
       "Empty DataFrame\n",
       "Columns: [Bedroom, Property Type, Property Subtype, Price, Location, Province, Living area, Kitchen Type, Furnished, HasFireplace, How many fireplaces?, HasGarden, Garden surface, HasTerrace, Terrace surface, Surface of the plot, Number of frontages, Swimming pool, Building condition]\n",
       "Index: []"
      ]
     },
     "execution_count": 12,
     "metadata": {},
     "output_type": "execute_result"
    }
   ],
   "source": [
    "\n",
    "\n",
    "df[df.duplicated()] #Check again if all duplicates are removed"
   ]
  },
  {
   "cell_type": "markdown",
   "metadata": {},
   "source": [
    "### *Checking each column for any potential reasons to clean*"
   ]
  },
  {
   "cell_type": "code",
   "execution_count": 13,
   "metadata": {},
   "outputs": [
    {
     "data": {
      "text/plain": [
       "array([ 1,  2,  3,  5,  6,  4,  0,  8,  7,  9, 22, 10, 41, 13, 12, 11, 16,\n",
       "       20, 18, 15])"
      ]
     },
     "execution_count": 13,
     "metadata": {},
     "output_type": "execute_result"
    }
   ],
   "source": [
    "#Check bedroom column\n",
    "df['Bedroom'].unique()"
   ]
  },
  {
   "cell_type": "code",
   "execution_count": 14,
   "metadata": {},
   "outputs": [
    {
     "data": {
      "text/html": [
       "<div>\n",
       "<style scoped>\n",
       "    .dataframe tbody tr th:only-of-type {\n",
       "        vertical-align: middle;\n",
       "    }\n",
       "\n",
       "    .dataframe tbody tr th {\n",
       "        vertical-align: top;\n",
       "    }\n",
       "\n",
       "    .dataframe thead th {\n",
       "        text-align: right;\n",
       "    }\n",
       "</style>\n",
       "<table border=\"1\" class=\"dataframe\">\n",
       "  <thead>\n",
       "    <tr style=\"text-align: right;\">\n",
       "      <th></th>\n",
       "      <th>Bedroom</th>\n",
       "      <th>Property Type</th>\n",
       "      <th>Property Subtype</th>\n",
       "      <th>Price</th>\n",
       "      <th>Location</th>\n",
       "      <th>Province</th>\n",
       "      <th>Living area</th>\n",
       "      <th>Kitchen Type</th>\n",
       "      <th>Furnished</th>\n",
       "      <th>HasFireplace</th>\n",
       "      <th>How many fireplaces?</th>\n",
       "      <th>HasGarden</th>\n",
       "      <th>Garden surface</th>\n",
       "      <th>HasTerrace</th>\n",
       "      <th>Terrace surface</th>\n",
       "      <th>Surface of the plot</th>\n",
       "      <th>Number of frontages</th>\n",
       "      <th>Swimming pool</th>\n",
       "      <th>Building condition</th>\n",
       "    </tr>\n",
       "  </thead>\n",
       "  <tbody>\n",
       "    <tr>\n",
       "      <th>696</th>\n",
       "      <td>41</td>\n",
       "      <td>House</td>\n",
       "      <td>Mixed-use building</td>\n",
       "      <td>5,200,000</td>\n",
       "      <td>1000</td>\n",
       "      <td>Brussels</td>\n",
       "      <td>2049</td>\n",
       "      <td>USA hyper equipped</td>\n",
       "      <td>No</td>\n",
       "      <td>No</td>\n",
       "      <td>0</td>\n",
       "      <td>Yes</td>\n",
       "      <td>198</td>\n",
       "      <td>Yes</td>\n",
       "      <td>70</td>\n",
       "      <td>1988</td>\n",
       "      <td>4</td>\n",
       "      <td>No</td>\n",
       "      <td>As new</td>\n",
       "    </tr>\n",
       "    <tr>\n",
       "      <th>697</th>\n",
       "      <td>41</td>\n",
       "      <td>House</td>\n",
       "      <td>Mixed-use building</td>\n",
       "      <td>5,200,000</td>\n",
       "      <td>1070</td>\n",
       "      <td>Brussels</td>\n",
       "      <td>2049</td>\n",
       "      <td>USA hyper equipped</td>\n",
       "      <td>No</td>\n",
       "      <td>No</td>\n",
       "      <td>0</td>\n",
       "      <td>Yes</td>\n",
       "      <td>198</td>\n",
       "      <td>Yes</td>\n",
       "      <td>70</td>\n",
       "      <td>1988</td>\n",
       "      <td>4</td>\n",
       "      <td>No</td>\n",
       "      <td>As new</td>\n",
       "    </tr>\n",
       "  </tbody>\n",
       "</table>\n",
       "</div>"
      ],
      "text/plain": [
       "     Bedroom Property Type    Property Subtype      Price  Location  Province  \\\n",
       "696       41         House  Mixed-use building  5,200,000      1000  Brussels   \n",
       "697       41         House  Mixed-use building  5,200,000      1070  Brussels   \n",
       "\n",
       "     Living area        Kitchen Type Furnished HasFireplace  \\\n",
       "696         2049  USA hyper equipped        No           No   \n",
       "697         2049  USA hyper equipped        No           No   \n",
       "\n",
       "     How many fireplaces? HasGarden  Garden surface HasTerrace  \\\n",
       "696                     0       Yes             198        Yes   \n",
       "697                     0       Yes             198        Yes   \n",
       "\n",
       "     Terrace surface Surface of the plot  Number of frontages Swimming pool  \\\n",
       "696               70                1988                    4            No   \n",
       "697               70                1988                    4            No   \n",
       "\n",
       "    Building condition  \n",
       "696             As new  \n",
       "697             As new  "
      ]
     },
     "execution_count": 14,
     "metadata": {},
     "output_type": "execute_result"
    }
   ],
   "source": [
    "df[df['Bedroom'] == 41] \n",
    "#Check which listing has 41 bedrooms, its unusual."
   ]
  },
  {
   "cell_type": "markdown",
   "metadata": {},
   "source": [
    "#### *Mixed-use building listings sums all individual properties that they sell and give a sum result for each column; bedroom, price, living ares..*"
   ]
  },
  {
   "cell_type": "code",
   "execution_count": 15,
   "metadata": {},
   "outputs": [
    {
     "data": {
      "text/plain": [
       "array(['Apartment', 'House'], dtype=object)"
      ]
     },
     "execution_count": 15,
     "metadata": {},
     "output_type": "execute_result"
    }
   ],
   "source": [
    "#Check Property Type\n",
    "df['Property Type'].unique()\n",
    "#Looks fine"
   ]
  },
  {
   "cell_type": "code",
   "execution_count": 16,
   "metadata": {},
   "outputs": [
    {
     "data": {
      "text/plain": [
       "array(['Apartment', 'Town-house', 'House', 'Apartment block', 'Villa',\n",
       "       'Penthouse', 'Mansion', 'Studio', 'Exceptional property',\n",
       "       'Mixed-use building', 'Kot', 'Duplex', 'Triplex', 'Ground floor',\n",
       "       'Bungalow', 'Loft', 'Chalet', 'Service flat', 'Castle',\n",
       "       'Farmhouse', 'Country house', 'Manor house', 'Other properties'],\n",
       "      dtype=object)"
      ]
     },
     "execution_count": 16,
     "metadata": {},
     "output_type": "execute_result"
    }
   ],
   "source": [
    "#Check Property Subtype\n",
    "df['Property Subtype'].unique()\n",
    "#Looks fine"
   ]
  },
  {
   "cell_type": "code",
   "execution_count": 17,
   "metadata": {},
   "outputs": [
    {
     "data": {
      "text/plain": [
       "dtype('O')"
      ]
     },
     "execution_count": 17,
     "metadata": {},
     "output_type": "execute_result"
    }
   ],
   "source": [
    "#Check Price column, from the .info() func we know that its an object type, it needs conversion to be able to do analysis.\n",
    "df['Price'].dtype"
   ]
  },
  {
   "cell_type": "code",
   "execution_count": 18,
   "metadata": {},
   "outputs": [],
   "source": [
    "#First removing the dot(.)\n",
    "df['Price'] = df['Price'].str.replace('.', '')"
   ]
  },
  {
   "cell_type": "code",
   "execution_count": 19,
   "metadata": {},
   "outputs": [],
   "source": [
    "#Some rows have commas(,) so they need to be removed too\n",
    "df['Price'] = df['Price'].str.replace(',', '')"
   ]
  },
  {
   "cell_type": "code",
   "execution_count": 26,
   "metadata": {},
   "outputs": [],
   "source": [
    "# #Convert the data type into a float\n",
    "df['Price'] = df['Price'].astype(float)\n",
    "# #Conversion is not working because I have string rows: 'Make' and 'Reserve' and'No'."
   ]
  },
  {
   "cell_type": "code",
   "execution_count": 21,
   "metadata": {
    "scrolled": false
   },
   "outputs": [
    {
     "data": {
      "text/html": [
       "<div>\n",
       "<style scoped>\n",
       "    .dataframe tbody tr th:only-of-type {\n",
       "        vertical-align: middle;\n",
       "    }\n",
       "\n",
       "    .dataframe tbody tr th {\n",
       "        vertical-align: top;\n",
       "    }\n",
       "\n",
       "    .dataframe thead th {\n",
       "        text-align: right;\n",
       "    }\n",
       "</style>\n",
       "<table border=\"1\" class=\"dataframe\">\n",
       "  <thead>\n",
       "    <tr style=\"text-align: right;\">\n",
       "      <th></th>\n",
       "      <th>Bedroom</th>\n",
       "      <th>Property Type</th>\n",
       "      <th>Property Subtype</th>\n",
       "      <th>Price</th>\n",
       "      <th>Location</th>\n",
       "      <th>Province</th>\n",
       "      <th>Living area</th>\n",
       "      <th>Kitchen Type</th>\n",
       "      <th>Furnished</th>\n",
       "      <th>HasFireplace</th>\n",
       "      <th>How many fireplaces?</th>\n",
       "      <th>HasGarden</th>\n",
       "      <th>Garden surface</th>\n",
       "      <th>HasTerrace</th>\n",
       "      <th>Terrace surface</th>\n",
       "      <th>Surface of the plot</th>\n",
       "      <th>Number of frontages</th>\n",
       "      <th>Swimming pool</th>\n",
       "      <th>Building condition</th>\n",
       "    </tr>\n",
       "  </thead>\n",
       "  <tbody>\n",
       "    <tr>\n",
       "      <th>12</th>\n",
       "      <td>2</td>\n",
       "      <td>Apartment</td>\n",
       "      <td>Apartment</td>\n",
       "      <td>Make</td>\n",
       "      <td>1190</td>\n",
       "      <td>Brussels</td>\n",
       "      <td>103</td>\n",
       "      <td>Semi equipped</td>\n",
       "      <td>No</td>\n",
       "      <td>No</td>\n",
       "      <td>0</td>\n",
       "      <td>No</td>\n",
       "      <td>0</td>\n",
       "      <td>Yes</td>\n",
       "      <td>25</td>\n",
       "      <td>0</td>\n",
       "      <td>2</td>\n",
       "      <td>No</td>\n",
       "      <td>Good</td>\n",
       "    </tr>\n",
       "    <tr>\n",
       "      <th>35</th>\n",
       "      <td>2</td>\n",
       "      <td>Apartment</td>\n",
       "      <td>Penthouse</td>\n",
       "      <td>Make</td>\n",
       "      <td>1160</td>\n",
       "      <td>Brussels</td>\n",
       "      <td>75</td>\n",
       "      <td>Installed</td>\n",
       "      <td>No</td>\n",
       "      <td>No</td>\n",
       "      <td>0</td>\n",
       "      <td>No</td>\n",
       "      <td>0</td>\n",
       "      <td>Yes</td>\n",
       "      <td>35</td>\n",
       "      <td>0</td>\n",
       "      <td>0</td>\n",
       "      <td>No</td>\n",
       "      <td>To be done up</td>\n",
       "    </tr>\n",
       "    <tr>\n",
       "      <th>133</th>\n",
       "      <td>3</td>\n",
       "      <td>Apartment</td>\n",
       "      <td>Duplex</td>\n",
       "      <td>Make</td>\n",
       "      <td>1600</td>\n",
       "      <td>Vlaams-brabant</td>\n",
       "      <td>116</td>\n",
       "      <td>Semi equipped</td>\n",
       "      <td>No</td>\n",
       "      <td>No</td>\n",
       "      <td>0</td>\n",
       "      <td>No</td>\n",
       "      <td>0</td>\n",
       "      <td>Yes</td>\n",
       "      <td>15</td>\n",
       "      <td>0</td>\n",
       "      <td>3</td>\n",
       "      <td>No</td>\n",
       "      <td>Good</td>\n",
       "    </tr>\n",
       "    <tr>\n",
       "      <th>139</th>\n",
       "      <td>3</td>\n",
       "      <td>House</td>\n",
       "      <td>Villa</td>\n",
       "      <td>Make</td>\n",
       "      <td>5300</td>\n",
       "      <td>Namen</td>\n",
       "      <td>147</td>\n",
       "      <td>USA semi equipped</td>\n",
       "      <td>No</td>\n",
       "      <td>No</td>\n",
       "      <td>0</td>\n",
       "      <td>Yes</td>\n",
       "      <td>700</td>\n",
       "      <td>Yes</td>\n",
       "      <td>10</td>\n",
       "      <td>852</td>\n",
       "      <td>4</td>\n",
       "      <td>No</td>\n",
       "      <td>To be done up</td>\n",
       "    </tr>\n",
       "    <tr>\n",
       "      <th>152</th>\n",
       "      <td>6</td>\n",
       "      <td>House</td>\n",
       "      <td>House</td>\n",
       "      <td>Make</td>\n",
       "      <td>4520</td>\n",
       "      <td>Luik</td>\n",
       "      <td>255</td>\n",
       "      <td>Hyper equipped</td>\n",
       "      <td>No</td>\n",
       "      <td>No</td>\n",
       "      <td>0</td>\n",
       "      <td>Yes</td>\n",
       "      <td>200</td>\n",
       "      <td>Yes</td>\n",
       "      <td>20</td>\n",
       "      <td>365</td>\n",
       "      <td>3</td>\n",
       "      <td>No</td>\n",
       "      <td>As new</td>\n",
       "    </tr>\n",
       "    <tr>\n",
       "      <th>...</th>\n",
       "      <td>...</td>\n",
       "      <td>...</td>\n",
       "      <td>...</td>\n",
       "      <td>...</td>\n",
       "      <td>...</td>\n",
       "      <td>...</td>\n",
       "      <td>...</td>\n",
       "      <td>...</td>\n",
       "      <td>...</td>\n",
       "      <td>...</td>\n",
       "      <td>...</td>\n",
       "      <td>...</td>\n",
       "      <td>...</td>\n",
       "      <td>...</td>\n",
       "      <td>...</td>\n",
       "      <td>...</td>\n",
       "      <td>...</td>\n",
       "      <td>...</td>\n",
       "      <td>...</td>\n",
       "    </tr>\n",
       "    <tr>\n",
       "      <th>8786</th>\n",
       "      <td>1</td>\n",
       "      <td>Apartment</td>\n",
       "      <td>Apartment</td>\n",
       "      <td>Reserve</td>\n",
       "      <td>2018</td>\n",
       "      <td>Antwerpen</td>\n",
       "      <td>80</td>\n",
       "      <td>Installed</td>\n",
       "      <td>0</td>\n",
       "      <td>No</td>\n",
       "      <td>0</td>\n",
       "      <td>No</td>\n",
       "      <td>0</td>\n",
       "      <td>No</td>\n",
       "      <td>0</td>\n",
       "      <td>0</td>\n",
       "      <td>2</td>\n",
       "      <td>No</td>\n",
       "      <td>Unknown</td>\n",
       "    </tr>\n",
       "    <tr>\n",
       "      <th>8795</th>\n",
       "      <td>3</td>\n",
       "      <td>Apartment</td>\n",
       "      <td>Apartment</td>\n",
       "      <td>Make</td>\n",
       "      <td>7000</td>\n",
       "      <td>Henegouwen</td>\n",
       "      <td>140</td>\n",
       "      <td>Semi equipped</td>\n",
       "      <td>0</td>\n",
       "      <td>No</td>\n",
       "      <td>0</td>\n",
       "      <td>No</td>\n",
       "      <td>0</td>\n",
       "      <td>No</td>\n",
       "      <td>0</td>\n",
       "      <td>0</td>\n",
       "      <td>0</td>\n",
       "      <td>No</td>\n",
       "      <td>To renovate</td>\n",
       "    </tr>\n",
       "    <tr>\n",
       "      <th>8805</th>\n",
       "      <td>1</td>\n",
       "      <td>Apartment</td>\n",
       "      <td>Ground floor</td>\n",
       "      <td>Make</td>\n",
       "      <td>7022</td>\n",
       "      <td>Henegouwen</td>\n",
       "      <td>60</td>\n",
       "      <td>Installed</td>\n",
       "      <td>Yes</td>\n",
       "      <td>No</td>\n",
       "      <td>0</td>\n",
       "      <td>Yes</td>\n",
       "      <td>59</td>\n",
       "      <td>Yes</td>\n",
       "      <td>22</td>\n",
       "      <td>0</td>\n",
       "      <td>3</td>\n",
       "      <td>No</td>\n",
       "      <td>As new</td>\n",
       "    </tr>\n",
       "    <tr>\n",
       "      <th>8824</th>\n",
       "      <td>2</td>\n",
       "      <td>Apartment</td>\n",
       "      <td>Apartment</td>\n",
       "      <td>Make</td>\n",
       "      <td>8310</td>\n",
       "      <td>West-vlaanderen</td>\n",
       "      <td>89</td>\n",
       "      <td>Hyper equipped</td>\n",
       "      <td>No</td>\n",
       "      <td>No</td>\n",
       "      <td>0</td>\n",
       "      <td>No</td>\n",
       "      <td>0</td>\n",
       "      <td>Yes</td>\n",
       "      <td>10</td>\n",
       "      <td>0</td>\n",
       "      <td>2</td>\n",
       "      <td>No</td>\n",
       "      <td>Good</td>\n",
       "    </tr>\n",
       "    <tr>\n",
       "      <th>8907</th>\n",
       "      <td>2</td>\n",
       "      <td>House</td>\n",
       "      <td>House</td>\n",
       "      <td>Reserve</td>\n",
       "      <td>6900</td>\n",
       "      <td>Luxemburg</td>\n",
       "      <td>0</td>\n",
       "      <td>0</td>\n",
       "      <td>0</td>\n",
       "      <td>No</td>\n",
       "      <td>0</td>\n",
       "      <td>No</td>\n",
       "      <td>0</td>\n",
       "      <td>No</td>\n",
       "      <td>0</td>\n",
       "      <td>1770</td>\n",
       "      <td>4</td>\n",
       "      <td>No</td>\n",
       "      <td>Good</td>\n",
       "    </tr>\n",
       "  </tbody>\n",
       "</table>\n",
       "<p>436 rows × 19 columns</p>\n",
       "</div>"
      ],
      "text/plain": [
       "      Bedroom Property Type Property Subtype    Price  Location  \\\n",
       "12          2     Apartment        Apartment     Make      1190   \n",
       "35          2     Apartment        Penthouse     Make      1160   \n",
       "133         3     Apartment           Duplex     Make      1600   \n",
       "139         3         House            Villa     Make      5300   \n",
       "152         6         House            House     Make      4520   \n",
       "...       ...           ...              ...      ...       ...   \n",
       "8786        1     Apartment        Apartment  Reserve      2018   \n",
       "8795        3     Apartment        Apartment     Make      7000   \n",
       "8805        1     Apartment     Ground floor     Make      7022   \n",
       "8824        2     Apartment        Apartment     Make      8310   \n",
       "8907        2         House            House  Reserve      6900   \n",
       "\n",
       "             Province  Living area       Kitchen Type Furnished HasFireplace  \\\n",
       "12           Brussels          103      Semi equipped        No           No   \n",
       "35           Brussels           75          Installed        No           No   \n",
       "133    Vlaams-brabant          116      Semi equipped        No           No   \n",
       "139             Namen          147  USA semi equipped        No           No   \n",
       "152              Luik          255     Hyper equipped        No           No   \n",
       "...               ...          ...                ...       ...          ...   \n",
       "8786        Antwerpen           80          Installed         0           No   \n",
       "8795       Henegouwen          140      Semi equipped         0           No   \n",
       "8805       Henegouwen           60          Installed       Yes           No   \n",
       "8824  West-vlaanderen           89     Hyper equipped        No           No   \n",
       "8907        Luxemburg            0                  0         0           No   \n",
       "\n",
       "      How many fireplaces? HasGarden  Garden surface HasTerrace  \\\n",
       "12                       0        No               0        Yes   \n",
       "35                       0        No               0        Yes   \n",
       "133                      0        No               0        Yes   \n",
       "139                      0       Yes             700        Yes   \n",
       "152                      0       Yes             200        Yes   \n",
       "...                    ...       ...             ...        ...   \n",
       "8786                     0        No               0         No   \n",
       "8795                     0        No               0         No   \n",
       "8805                     0       Yes              59        Yes   \n",
       "8824                     0        No               0        Yes   \n",
       "8907                     0        No               0         No   \n",
       "\n",
       "      Terrace surface Surface of the plot  Number of frontages Swimming pool  \\\n",
       "12                 25                   0                    2            No   \n",
       "35                 35                   0                    0            No   \n",
       "133                15                   0                    3            No   \n",
       "139                10                 852                    4            No   \n",
       "152                20                 365                    3            No   \n",
       "...               ...                 ...                  ...           ...   \n",
       "8786                0                   0                    2            No   \n",
       "8795                0                   0                    0            No   \n",
       "8805               22                   0                    3            No   \n",
       "8824               10                   0                    2            No   \n",
       "8907                0                1770                    4            No   \n",
       "\n",
       "     Building condition  \n",
       "12                 Good  \n",
       "35        To be done up  \n",
       "133                Good  \n",
       "139       To be done up  \n",
       "152              As new  \n",
       "...                 ...  \n",
       "8786            Unknown  \n",
       "8795        To renovate  \n",
       "8805             As new  \n",
       "8824               Good  \n",
       "8907               Good  \n",
       "\n",
       "[436 rows x 19 columns]"
      ]
     },
     "execution_count": 21,
     "metadata": {},
     "output_type": "execute_result"
    }
   ],
   "source": [
    "df[(df['Price'] == 'Make') | (df['Price'] == 'Reserve')] #Check the rows where the Price is 'Make' and 'Reserve'"
   ]
  },
  {
   "cell_type": "markdown",
   "metadata": {},
   "source": [
    "*The reason of this 'Make' and 'Reserve' rows are because in the website, they are listed as e.g. **'Make Offering'** or **'Reserve for £150.000'**.*"
   ]
  },
  {
   "cell_type": "code",
   "execution_count": 22,
   "metadata": {
    "scrolled": true
   },
   "outputs": [
    {
     "data": {
      "text/html": [
       "<div>\n",
       "<style scoped>\n",
       "    .dataframe tbody tr th:only-of-type {\n",
       "        vertical-align: middle;\n",
       "    }\n",
       "\n",
       "    .dataframe tbody tr th {\n",
       "        vertical-align: top;\n",
       "    }\n",
       "\n",
       "    .dataframe thead th {\n",
       "        text-align: right;\n",
       "    }\n",
       "</style>\n",
       "<table border=\"1\" class=\"dataframe\">\n",
       "  <thead>\n",
       "    <tr style=\"text-align: right;\">\n",
       "      <th></th>\n",
       "      <th>Bedroom</th>\n",
       "      <th>Property Type</th>\n",
       "      <th>Property Subtype</th>\n",
       "      <th>Price</th>\n",
       "      <th>Location</th>\n",
       "      <th>Province</th>\n",
       "      <th>Living area</th>\n",
       "      <th>Kitchen Type</th>\n",
       "      <th>Furnished</th>\n",
       "      <th>HasFireplace</th>\n",
       "      <th>How many fireplaces?</th>\n",
       "      <th>HasGarden</th>\n",
       "      <th>Garden surface</th>\n",
       "      <th>HasTerrace</th>\n",
       "      <th>Terrace surface</th>\n",
       "      <th>Surface of the plot</th>\n",
       "      <th>Number of frontages</th>\n",
       "      <th>Swimming pool</th>\n",
       "      <th>Building condition</th>\n",
       "    </tr>\n",
       "  </thead>\n",
       "  <tbody>\n",
       "    <tr>\n",
       "      <th>7053</th>\n",
       "      <td>2</td>\n",
       "      <td>Apartment</td>\n",
       "      <td>Apartment</td>\n",
       "      <td>No</td>\n",
       "      <td>1080</td>\n",
       "      <td>Brussels</td>\n",
       "      <td>91</td>\n",
       "      <td>Installed</td>\n",
       "      <td>0</td>\n",
       "      <td>No</td>\n",
       "      <td>0</td>\n",
       "      <td>No</td>\n",
       "      <td>0</td>\n",
       "      <td>No</td>\n",
       "      <td>0</td>\n",
       "      <td>0</td>\n",
       "      <td>0</td>\n",
       "      <td>No</td>\n",
       "      <td>Unknown</td>\n",
       "    </tr>\n",
       "  </tbody>\n",
       "</table>\n",
       "</div>"
      ],
      "text/plain": [
       "      Bedroom Property Type Property Subtype Price  Location  Province  \\\n",
       "7053        2     Apartment        Apartment    No      1080  Brussels   \n",
       "\n",
       "      Living area Kitchen Type Furnished HasFireplace  How many fireplaces?  \\\n",
       "7053           91    Installed         0           No                     0   \n",
       "\n",
       "     HasGarden  Garden surface HasTerrace  Terrace surface  \\\n",
       "7053        No               0         No                0   \n",
       "\n",
       "     Surface of the plot  Number of frontages Swimming pool Building condition  \n",
       "7053                   0                    0            No            Unknown  "
      ]
     },
     "execution_count": 22,
     "metadata": {},
     "output_type": "execute_result"
    }
   ],
   "source": [
    "df[df['Price'] == 'No'] #And 1 row with the 'No' value. I found the corresponding value to it from colleagues' csv."
   ]
  },
  {
   "cell_type": "code",
   "execution_count": 23,
   "metadata": {},
   "outputs": [],
   "source": [
    "df['Price'].replace({'No': 275000}, inplace=True) #Replace the 'No' with the correct value\n"
   ]
  },
  {
   "cell_type": "code",
   "execution_count": 24,
   "metadata": {},
   "outputs": [],
   "source": [
    "#For this analysis, I will remove the rows that are not a number since there are only 447 counts.\n",
    "df= df[(df['Price'] != 'Make') & (df['Price'] != 'Reserve')]"
   ]
  },
  {
   "cell_type": "code",
   "execution_count": 25,
   "metadata": {},
   "outputs": [
    {
     "name": "stderr",
     "output_type": "stream",
     "text": [
      "<ipython-input-25-4d88e3f3c3a2>:2: SettingWithCopyWarning: \n",
      "A value is trying to be set on a copy of a slice from a DataFrame.\n",
      "Try using .loc[row_indexer,col_indexer] = value instead\n",
      "\n",
      "See the caveats in the documentation: https://pandas.pydata.org/pandas-docs/stable/user_guide/indexing.html#returning-a-view-versus-a-copy\n",
      "  df['Price'] = df['Price'].astype(float)\n"
     ]
    }
   ],
   "source": [
    "#Now the column can be converted to float type\n",
    "df['Price'] = df['Price'].astype(float)"
   ]
  },
  {
   "cell_type": "code",
   "execution_count": 27,
   "metadata": {},
   "outputs": [
    {
     "name": "stderr",
     "output_type": "stream",
     "text": [
      "<ipython-input-27-d71451846825>:1: SettingWithCopyWarning: \n",
      "A value is trying to be set on a copy of a slice from a DataFrame.\n",
      "Try using .loc[row_indexer,col_indexer] = value instead\n",
      "\n",
      "See the caveats in the documentation: https://pandas.pydata.org/pandas-docs/stable/user_guide/indexing.html#returning-a-view-versus-a-copy\n",
      "  df['Price'] = df['Price']/1000 #Making the prices easier to read\n"
     ]
    }
   ],
   "source": [
    "df['Price'] = df['Price']/1000 #Making the prices easier to read"
   ]
  },
  {
   "cell_type": "code",
   "execution_count": 28,
   "metadata": {},
   "outputs": [
    {
     "data": {
      "text/plain": [
       "1247"
      ]
     },
     "execution_count": 28,
     "metadata": {},
     "output_type": "execute_result"
    }
   ],
   "source": [
    "#Checking the count of missing values in Location column: stated as 0.\n",
    "(df['Location'] == 0).sum()"
   ]
  },
  {
   "cell_type": "markdown",
   "metadata": {},
   "source": [
    "**Since this analysis requires finding the expensive and cheaper regions of Belgium, having a missing value on Postal code will not be usefull. Therefore, I will remove them from the dataframe.**"
   ]
  },
  {
   "cell_type": "code",
   "execution_count": 29,
   "metadata": {},
   "outputs": [],
   "source": [
    "df= df[df['Location'] != 0]"
   ]
  },
  {
   "cell_type": "code",
   "execution_count": 30,
   "metadata": {},
   "outputs": [
    {
     "data": {
      "text/plain": [
       "7233"
      ]
     },
     "execution_count": 30,
     "metadata": {},
     "output_type": "execute_result"
    }
   ],
   "source": [
    "df['Location'].count() #Remaining count"
   ]
  },
  {
   "cell_type": "code",
   "execution_count": 31,
   "metadata": {},
   "outputs": [
    {
     "data": {
      "text/plain": [
       "array(['Brussels', 'Oost-vlaanderen', 'Vlaams-brabant', 'Luik', 'Namen',\n",
       "       'Luxemburg', 'West-vlaanderen', 'Antwerpen', 'Henegouwen',\n",
       "       'Waals-brabant', 'Limburg'], dtype=object)"
      ]
     },
     "execution_count": 31,
     "metadata": {},
     "output_type": "execute_result"
    }
   ],
   "source": [
    "#Checking the Province column\n",
    "df['Province'].unique() \n",
    "\n",
    "#Looks fine, 11 province in total."
   ]
  },
  {
   "cell_type": "code",
   "execution_count": 32,
   "metadata": {},
   "outputs": [
    {
     "name": "stdout",
     "output_type": "stream",
     "text": [
      "Max: 4709\n",
      "Min: 0\n",
      "Length of missing values: 221\n"
     ]
    }
   ],
   "source": [
    "#Checking the Living are column\n",
    "\n",
    "print(\"Max:\" ,df['Living area'].max()) #checking anomalities\n",
    "print(\"Min:\" ,df['Living area'].min())\n",
    "print(\"Length of missing values:\" , (df['Living area'] == 0).sum())"
   ]
  },
  {
   "cell_type": "code",
   "execution_count": 25,
   "metadata": {},
   "outputs": [],
   "source": [
    "#Remove the Locations where there are less than 10 listings. (10 is the average number of listing per postal code.)"
   ]
  },
  {
   "cell_type": "code",
   "execution_count": 33,
   "metadata": {},
   "outputs": [],
   "source": [
    "counts = df['Location'].value_counts()\n",
    "\n",
    "df = df[~df['Location'].isin(counts[counts < 10].index)]\n",
    "\n",
    "\n"
   ]
  },
  {
   "cell_type": "code",
   "execution_count": 34,
   "metadata": {},
   "outputs": [],
   "source": [
    "#Remove mixed-use buildings from the analysis because they are not an individual listing.\n",
    "df = df[df['Property Subtype'] != 'Mixed-use building']"
   ]
  },
  {
   "cell_type": "code",
   "execution_count": 35,
   "metadata": {},
   "outputs": [
    {
     "name": "stdout",
     "output_type": "stream",
     "text": [
      "<class 'pandas.core.frame.DataFrame'>\n",
      "Int64Index: 5264 entries, 0 to 8915\n",
      "Data columns (total 19 columns):\n",
      " #   Column                Non-Null Count  Dtype  \n",
      "---  ------                --------------  -----  \n",
      " 0   Bedroom               5264 non-null   int64  \n",
      " 1   Property Type         5264 non-null   object \n",
      " 2   Property Subtype      5264 non-null   object \n",
      " 3   Price                 5264 non-null   float64\n",
      " 4   Location              5264 non-null   int64  \n",
      " 5   Province              5264 non-null   object \n",
      " 6   Living area           5264 non-null   int64  \n",
      " 7   Kitchen Type          5264 non-null   object \n",
      " 8   Furnished             5264 non-null   object \n",
      " 9   HasFireplace          5264 non-null   object \n",
      " 10  How many fireplaces?  5264 non-null   int64  \n",
      " 11  HasGarden             5264 non-null   object \n",
      " 12  Garden surface        5264 non-null   int64  \n",
      " 13  HasTerrace            5264 non-null   object \n",
      " 14  Terrace surface       5264 non-null   int64  \n",
      " 15  Surface of the plot   5264 non-null   object \n",
      " 16  Number of frontages   5264 non-null   int64  \n",
      " 17  Swimming pool         5264 non-null   object \n",
      " 18  Building condition    5264 non-null   object \n",
      "dtypes: float64(1), int64(7), object(11)\n",
      "memory usage: 822.5+ KB\n"
     ]
    }
   ],
   "source": [
    "df.info()\n",
    "\n",
    "#5264 entries will be used to answer the questions."
   ]
  },
  {
   "cell_type": "code",
   "execution_count": 36,
   "metadata": {
    "scrolled": true
   },
   "outputs": [
    {
     "data": {
      "text/plain": [
       "Province\n",
       "Antwerpen           535\n",
       "Brussels           1377\n",
       "Henegouwen          107\n",
       "Limburg              13\n",
       "Luik                575\n",
       "Luxemburg           133\n",
       "Namen                19\n",
       "Oost-vlaanderen     775\n",
       "Vlaams-brabant      477\n",
       "Waals-brabant       179\n",
       "West-vlaanderen    1074\n",
       "Name: Location, dtype: int64"
      ]
     },
     "execution_count": 36,
     "metadata": {},
     "output_type": "execute_result"
    }
   ],
   "source": [
    "listing_count_by_province = df.groupby('Province')['Location'].count() #check which province has the most listing\n",
    "listing_count_by_province"
   ]
  },
  {
   "cell_type": "code",
   "execution_count": 37,
   "metadata": {},
   "outputs": [],
   "source": [
    "df.to_csv('final_output_immo.csv',sep=\",\")"
   ]
  },
  {
   "cell_type": "markdown",
   "metadata": {},
   "source": [
    "**Brussels and West-vlaanderen has > 1000 listing.**"
   ]
  },
  {
   "cell_type": "markdown",
   "metadata": {},
   "source": [
    "### Question 1: What is the most expensive province in Belgium?"
   ]
  },
  {
   "cell_type": "code",
   "execution_count": 38,
   "metadata": {},
   "outputs": [
    {
     "data": {
      "text/html": [
       "<div>\n",
       "<style scoped>\n",
       "    .dataframe tbody tr th:only-of-type {\n",
       "        vertical-align: middle;\n",
       "    }\n",
       "\n",
       "    .dataframe tbody tr th {\n",
       "        vertical-align: top;\n",
       "    }\n",
       "\n",
       "    .dataframe thead th {\n",
       "        text-align: right;\n",
       "    }\n",
       "</style>\n",
       "<table border=\"1\" class=\"dataframe\">\n",
       "  <thead>\n",
       "    <tr style=\"text-align: right;\">\n",
       "      <th></th>\n",
       "      <th>min</th>\n",
       "      <th>max</th>\n",
       "      <th>mean</th>\n",
       "      <th>median</th>\n",
       "    </tr>\n",
       "    <tr>\n",
       "      <th>Province</th>\n",
       "      <th></th>\n",
       "      <th></th>\n",
       "      <th></th>\n",
       "      <th></th>\n",
       "    </tr>\n",
       "  </thead>\n",
       "  <tbody>\n",
       "    <tr>\n",
       "      <th>Brussels</th>\n",
       "      <td>99.0</td>\n",
       "      <td>5950.0</td>\n",
       "      <td>808.788733</td>\n",
       "      <td>479.00</td>\n",
       "    </tr>\n",
       "    <tr>\n",
       "      <th>Limburg</th>\n",
       "      <td>245.0</td>\n",
       "      <td>895.0</td>\n",
       "      <td>500.923077</td>\n",
       "      <td>475.00</td>\n",
       "    </tr>\n",
       "    <tr>\n",
       "      <th>Waals-brabant</th>\n",
       "      <td>65.0</td>\n",
       "      <td>5200.0</td>\n",
       "      <td>767.744832</td>\n",
       "      <td>430.00</td>\n",
       "    </tr>\n",
       "    <tr>\n",
       "      <th>Vlaams-brabant</th>\n",
       "      <td>73.0</td>\n",
       "      <td>4950.0</td>\n",
       "      <td>647.472541</td>\n",
       "      <td>385.00</td>\n",
       "    </tr>\n",
       "    <tr>\n",
       "      <th>Antwerpen</th>\n",
       "      <td>110.0</td>\n",
       "      <td>3995.0</td>\n",
       "      <td>519.270568</td>\n",
       "      <td>345.00</td>\n",
       "    </tr>\n",
       "    <tr>\n",
       "      <th>Oost-vlaanderen</th>\n",
       "      <td>75.0</td>\n",
       "      <td>2750.0</td>\n",
       "      <td>356.847952</td>\n",
       "      <td>307.00</td>\n",
       "    </tr>\n",
       "    <tr>\n",
       "      <th>West-vlaanderen</th>\n",
       "      <td>74.0</td>\n",
       "      <td>8500.0</td>\n",
       "      <td>519.001602</td>\n",
       "      <td>299.00</td>\n",
       "    </tr>\n",
       "    <tr>\n",
       "      <th>Namen</th>\n",
       "      <td>55.0</td>\n",
       "      <td>1225.0</td>\n",
       "      <td>319.934211</td>\n",
       "      <td>263.25</td>\n",
       "    </tr>\n",
       "    <tr>\n",
       "      <th>Luxemburg</th>\n",
       "      <td>85.0</td>\n",
       "      <td>899.0</td>\n",
       "      <td>308.128534</td>\n",
       "      <td>250.00</td>\n",
       "    </tr>\n",
       "    <tr>\n",
       "      <th>Luik</th>\n",
       "      <td>59.0</td>\n",
       "      <td>1399.0</td>\n",
       "      <td>254.833438</td>\n",
       "      <td>224.50</td>\n",
       "    </tr>\n",
       "    <tr>\n",
       "      <th>Henegouwen</th>\n",
       "      <td>79.0</td>\n",
       "      <td>1495.0</td>\n",
       "      <td>285.913972</td>\n",
       "      <td>196.62</td>\n",
       "    </tr>\n",
       "  </tbody>\n",
       "</table>\n",
       "</div>"
      ],
      "text/plain": [
       "                   min     max        mean  median\n",
       "Province                                          \n",
       "Brussels          99.0  5950.0  808.788733  479.00\n",
       "Limburg          245.0   895.0  500.923077  475.00\n",
       "Waals-brabant     65.0  5200.0  767.744832  430.00\n",
       "Vlaams-brabant    73.0  4950.0  647.472541  385.00\n",
       "Antwerpen        110.0  3995.0  519.270568  345.00\n",
       "Oost-vlaanderen   75.0  2750.0  356.847952  307.00\n",
       "West-vlaanderen   74.0  8500.0  519.001602  299.00\n",
       "Namen             55.0  1225.0  319.934211  263.25\n",
       "Luxemburg         85.0   899.0  308.128534  250.00\n",
       "Luik              59.0  1399.0  254.833438  224.50\n",
       "Henegouwen        79.0  1495.0  285.913972  196.62"
      ]
     },
     "execution_count": 38,
     "metadata": {},
     "output_type": "execute_result"
    }
   ],
   "source": [
    "#Overall look on the prices per province\n",
    "df.groupby('Province')['Price'].agg(['min','max','mean','median']).sort_values(by='median', ascending=False)"
   ]
  },
  {
   "cell_type": "code",
   "execution_count": 39,
   "metadata": {
    "scrolled": true
   },
   "outputs": [
    {
     "data": {
      "text/plain": [
       "<matplotlib.axes._subplots.AxesSubplot at 0x7f7f05b7d6a0>"
      ]
     },
     "execution_count": 39,
     "metadata": {},
     "output_type": "execute_result"
    },
    {
     "data": {
      "image/png": "[encoded data removed]",
      "text/plain": [
       "<Figure size 432x288 with 1 Axes>"
      ]
     },
     "metadata": {},
     "output_type": "display_data"
    }
   ],
   "source": [
    "#Check the Price distribution for all regions \n",
    "\n",
    "sns.set_style(style=\"whitegrid\")\n",
    "sns.boxplot(df['Price'])"
   ]
  },
  {
   "cell_type": "code",
   "execution_count": 40,
   "metadata": {},
   "outputs": [
    {
     "data": {
      "text/plain": [
       "<matplotlib.axes._subplots.AxesSubplot at 0x7f7f05960790>"
      ]
     },
     "execution_count": 40,
     "metadata": {},
     "output_type": "execute_result"
    },
    {
     "data": {
      "image/png": "[encoded data removed]",
      "text/plain": [
       "<Figure size 432x288 with 1 Axes>"
      ]
     },
     "metadata": {},
     "output_type": "display_data"
    }
   ],
   "source": [
    "#Distribution plot also provides the same info: Price distribution for all regions\n",
    "sns.distplot(df['Price'])"
   ]
  },
  {
   "cell_type": "code",
   "execution_count": 41,
   "metadata": {},
   "outputs": [
    {
     "data": {
      "text/html": [
       "<div>\n",
       "<style scoped>\n",
       "    .dataframe tbody tr th:only-of-type {\n",
       "        vertical-align: middle;\n",
       "    }\n",
       "\n",
       "    .dataframe tbody tr th {\n",
       "        vertical-align: top;\n",
       "    }\n",
       "\n",
       "    .dataframe thead th {\n",
       "        text-align: right;\n",
       "    }\n",
       "</style>\n",
       "<table border=\"1\" class=\"dataframe\">\n",
       "  <thead>\n",
       "    <tr style=\"text-align: right;\">\n",
       "      <th></th>\n",
       "      <th>Province</th>\n",
       "      <th>Price</th>\n",
       "    </tr>\n",
       "  </thead>\n",
       "  <tbody>\n",
       "    <tr>\n",
       "      <th>0</th>\n",
       "      <td>Brussels</td>\n",
       "      <td>808.788733</td>\n",
       "    </tr>\n",
       "    <tr>\n",
       "      <th>1</th>\n",
       "      <td>Waals-brabant</td>\n",
       "      <td>767.744832</td>\n",
       "    </tr>\n",
       "    <tr>\n",
       "      <th>2</th>\n",
       "      <td>Vlaams-brabant</td>\n",
       "      <td>647.472541</td>\n",
       "    </tr>\n",
       "    <tr>\n",
       "      <th>3</th>\n",
       "      <td>Antwerpen</td>\n",
       "      <td>519.270568</td>\n",
       "    </tr>\n",
       "    <tr>\n",
       "      <th>4</th>\n",
       "      <td>West-vlaanderen</td>\n",
       "      <td>519.001602</td>\n",
       "    </tr>\n",
       "    <tr>\n",
       "      <th>5</th>\n",
       "      <td>Limburg</td>\n",
       "      <td>500.923077</td>\n",
       "    </tr>\n",
       "    <tr>\n",
       "      <th>6</th>\n",
       "      <td>Oost-vlaanderen</td>\n",
       "      <td>356.847952</td>\n",
       "    </tr>\n",
       "    <tr>\n",
       "      <th>7</th>\n",
       "      <td>Namen</td>\n",
       "      <td>319.934211</td>\n",
       "    </tr>\n",
       "    <tr>\n",
       "      <th>8</th>\n",
       "      <td>Luxemburg</td>\n",
       "      <td>308.128534</td>\n",
       "    </tr>\n",
       "    <tr>\n",
       "      <th>9</th>\n",
       "      <td>Henegouwen</td>\n",
       "      <td>285.913972</td>\n",
       "    </tr>\n",
       "    <tr>\n",
       "      <th>10</th>\n",
       "      <td>Luik</td>\n",
       "      <td>254.833438</td>\n",
       "    </tr>\n",
       "  </tbody>\n",
       "</table>\n",
       "</div>"
      ],
      "text/plain": [
       "           Province       Price\n",
       "0          Brussels  808.788733\n",
       "1     Waals-brabant  767.744832\n",
       "2    Vlaams-brabant  647.472541\n",
       "3         Antwerpen  519.270568\n",
       "4   West-vlaanderen  519.001602\n",
       "5           Limburg  500.923077\n",
       "6   Oost-vlaanderen  356.847952\n",
       "7             Namen  319.934211\n",
       "8         Luxemburg  308.128534\n",
       "9        Henegouwen  285.913972\n",
       "10             Luik  254.833438"
      ]
     },
     "execution_count": 41,
     "metadata": {},
     "output_type": "execute_result"
    }
   ],
   "source": [
    "#Calculating the average price by province. The result will be plotted later on.\n",
    "\n",
    "by_mean = df.groupby('Province')['Price'].mean().sort_values(ascending=False).reset_index()\n",
    "by_mean"
   ]
  },
  {
   "cell_type": "code",
   "execution_count": 42,
   "metadata": {},
   "outputs": [
    {
     "data": {
      "text/html": [
       "<div>\n",
       "<style scoped>\n",
       "    .dataframe tbody tr th:only-of-type {\n",
       "        vertical-align: middle;\n",
       "    }\n",
       "\n",
       "    .dataframe tbody tr th {\n",
       "        vertical-align: top;\n",
       "    }\n",
       "\n",
       "    .dataframe thead th {\n",
       "        text-align: right;\n",
       "    }\n",
       "</style>\n",
       "<table border=\"1\" class=\"dataframe\">\n",
       "  <thead>\n",
       "    <tr style=\"text-align: right;\">\n",
       "      <th></th>\n",
       "      <th>Province</th>\n",
       "      <th>Price</th>\n",
       "    </tr>\n",
       "  </thead>\n",
       "  <tbody>\n",
       "    <tr>\n",
       "      <th>0</th>\n",
       "      <td>Brussels</td>\n",
       "      <td>479.00</td>\n",
       "    </tr>\n",
       "    <tr>\n",
       "      <th>1</th>\n",
       "      <td>Limburg</td>\n",
       "      <td>475.00</td>\n",
       "    </tr>\n",
       "    <tr>\n",
       "      <th>2</th>\n",
       "      <td>Waals-brabant</td>\n",
       "      <td>430.00</td>\n",
       "    </tr>\n",
       "    <tr>\n",
       "      <th>3</th>\n",
       "      <td>Vlaams-brabant</td>\n",
       "      <td>385.00</td>\n",
       "    </tr>\n",
       "    <tr>\n",
       "      <th>4</th>\n",
       "      <td>Antwerpen</td>\n",
       "      <td>345.00</td>\n",
       "    </tr>\n",
       "    <tr>\n",
       "      <th>5</th>\n",
       "      <td>Oost-vlaanderen</td>\n",
       "      <td>307.00</td>\n",
       "    </tr>\n",
       "    <tr>\n",
       "      <th>6</th>\n",
       "      <td>West-vlaanderen</td>\n",
       "      <td>299.00</td>\n",
       "    </tr>\n",
       "    <tr>\n",
       "      <th>7</th>\n",
       "      <td>Namen</td>\n",
       "      <td>263.25</td>\n",
       "    </tr>\n",
       "    <tr>\n",
       "      <th>8</th>\n",
       "      <td>Luxemburg</td>\n",
       "      <td>250.00</td>\n",
       "    </tr>\n",
       "    <tr>\n",
       "      <th>9</th>\n",
       "      <td>Luik</td>\n",
       "      <td>224.50</td>\n",
       "    </tr>\n",
       "    <tr>\n",
       "      <th>10</th>\n",
       "      <td>Henegouwen</td>\n",
       "      <td>196.62</td>\n",
       "    </tr>\n",
       "  </tbody>\n",
       "</table>\n",
       "</div>"
      ],
      "text/plain": [
       "           Province   Price\n",
       "0          Brussels  479.00\n",
       "1           Limburg  475.00\n",
       "2     Waals-brabant  430.00\n",
       "3    Vlaams-brabant  385.00\n",
       "4         Antwerpen  345.00\n",
       "5   Oost-vlaanderen  307.00\n",
       "6   West-vlaanderen  299.00\n",
       "7             Namen  263.25\n",
       "8         Luxemburg  250.00\n",
       "9              Luik  224.50\n",
       "10       Henegouwen  196.62"
      ]
     },
     "execution_count": 42,
     "metadata": {},
     "output_type": "execute_result"
    }
   ],
   "source": [
    "#Calculating the median price per province\n",
    "\n",
    "by_median = df.groupby('Province')['Price'].median().sort_values(ascending=False).reset_index()\n",
    "by_median"
   ]
  },
  {
   "cell_type": "code",
   "execution_count": 43,
   "metadata": {},
   "outputs": [],
   "source": [
    "#Calculating price per square meter\n",
    "\n",
    "df['Price per square meter'] = df['Price']/df['Living area']"
   ]
  },
  {
   "cell_type": "code",
   "execution_count": 44,
   "metadata": {},
   "outputs": [
    {
     "data": {
      "text/html": [
       "<div>\n",
       "<style scoped>\n",
       "    .dataframe tbody tr th:only-of-type {\n",
       "        vertical-align: middle;\n",
       "    }\n",
       "\n",
       "    .dataframe tbody tr th {\n",
       "        vertical-align: top;\n",
       "    }\n",
       "\n",
       "    .dataframe thead th {\n",
       "        text-align: right;\n",
       "    }\n",
       "</style>\n",
       "<table border=\"1\" class=\"dataframe\">\n",
       "  <thead>\n",
       "    <tr style=\"text-align: right;\">\n",
       "      <th></th>\n",
       "      <th>Province</th>\n",
       "      <th>Price per square meter</th>\n",
       "    </tr>\n",
       "  </thead>\n",
       "  <tbody>\n",
       "    <tr>\n",
       "      <th>0</th>\n",
       "      <td>Brussels</td>\n",
       "      <td>3.750000</td>\n",
       "    </tr>\n",
       "    <tr>\n",
       "      <th>1</th>\n",
       "      <td>Waals-brabant</td>\n",
       "      <td>3.113636</td>\n",
       "    </tr>\n",
       "    <tr>\n",
       "      <th>2</th>\n",
       "      <td>Vlaams-brabant</td>\n",
       "      <td>3.024194</td>\n",
       "    </tr>\n",
       "    <tr>\n",
       "      <th>3</th>\n",
       "      <td>West-vlaanderen</td>\n",
       "      <td>2.945396</td>\n",
       "    </tr>\n",
       "    <tr>\n",
       "      <th>4</th>\n",
       "      <td>Antwerpen</td>\n",
       "      <td>2.763158</td>\n",
       "    </tr>\n",
       "    <tr>\n",
       "      <th>5</th>\n",
       "      <td>Limburg</td>\n",
       "      <td>2.393939</td>\n",
       "    </tr>\n",
       "    <tr>\n",
       "      <th>6</th>\n",
       "      <td>Oost-vlaanderen</td>\n",
       "      <td>2.302632</td>\n",
       "    </tr>\n",
       "    <tr>\n",
       "      <th>7</th>\n",
       "      <td>Luxemburg</td>\n",
       "      <td>2.248750</td>\n",
       "    </tr>\n",
       "    <tr>\n",
       "      <th>8</th>\n",
       "      <td>Namen</td>\n",
       "      <td>2.192982</td>\n",
       "    </tr>\n",
       "    <tr>\n",
       "      <th>9</th>\n",
       "      <td>Henegouwen</td>\n",
       "      <td>2.078947</td>\n",
       "    </tr>\n",
       "    <tr>\n",
       "      <th>10</th>\n",
       "      <td>Luik</td>\n",
       "      <td>1.746875</td>\n",
       "    </tr>\n",
       "  </tbody>\n",
       "</table>\n",
       "</div>"
      ],
      "text/plain": [
       "           Province  Price per square meter\n",
       "0          Brussels                3.750000\n",
       "1     Waals-brabant                3.113636\n",
       "2    Vlaams-brabant                3.024194\n",
       "3   West-vlaanderen                2.945396\n",
       "4         Antwerpen                2.763158\n",
       "5           Limburg                2.393939\n",
       "6   Oost-vlaanderen                2.302632\n",
       "7         Luxemburg                2.248750\n",
       "8             Namen                2.192982\n",
       "9        Henegouwen                2.078947\n",
       "10             Luik                1.746875"
      ]
     },
     "execution_count": 44,
     "metadata": {},
     "output_type": "execute_result"
    }
   ],
   "source": [
    "#Calculating the median price per square meter\n",
    "\n",
    "by_sqr_m = df.groupby('Province')['Price per square meter'].median().sort_values(ascending=False).reset_index()\n",
    "by_sqr_m"
   ]
  },
  {
   "cell_type": "code",
   "execution_count": 45,
   "metadata": {
    "scrolled": true
   },
   "outputs": [
    {
     "data": {
      "image/png": "[encoded data removed]",
      "text/plain": [
       "<Figure size 1080x576 with 1 Axes>"
      ]
     },
     "metadata": {},
     "output_type": "display_data"
    }
   ],
   "source": [
    "#Plotting the average property price for Belgium provinces\n",
    "\n",
    "plt.figure(figsize=(15,8))\n",
    "sns.set_style(style=\"whitegrid\")\n",
    "ax = sns.barplot(x='Province',y='Price',data=by_mean)\n",
    "ax.set_xlabel('Province', size=12)\n",
    "ax.set_ylabel('Average Price (in thousand)', size=12)\n",
    "ax.set_title('Average Prices per Belgium Provinces', size=15)\n",
    "\n",
    "plt.show()"
   ]
  },
  {
   "cell_type": "code",
   "execution_count": 46,
   "metadata": {},
   "outputs": [
    {
     "data": {
      "image/png": "[encoded data removed]",
      "text/plain": [
       "<Figure size 1080x576 with 1 Axes>"
      ]
     },
     "metadata": {},
     "output_type": "display_data"
    }
   ],
   "source": [
    "#Plotting the median property price for Belgium provinces\n",
    "plt.figure(figsize=(15,8))\n",
    "sns.set_style(style=\"whitegrid\")\n",
    "ax = sns.barplot(x='Province',y='Price',data=by_median)\n",
    "ax.set_xlabel('Province', size=12)\n",
    "ax.set_ylabel('Average Price (in thousand)', size=12)\n",
    "ax.set_title('Average Prices per Belgium Provinces', size=15)\n",
    "\n",
    "plt.show()"
   ]
  },
  {
   "cell_type": "code",
   "execution_count": 47,
   "metadata": {},
   "outputs": [
    {
     "data": {
      "image/png": "[encoded data removed]",
      "text/plain": [
       "<Figure size 1080x576 with 1 Axes>"
      ]
     },
     "metadata": {},
     "output_type": "display_data"
    }
   ],
   "source": [
    "#Plotting the median property price per square meter for Belgium provinces\n",
    "\n",
    "plt.figure(figsize=(15,8))\n",
    "sns.set_style(style=\"whitegrid\")\n",
    "ax = sns.barplot(x='Province',y='Price per square meter',data=by_sqr_m)\n",
    "ax.set_xlabel('Province', size=12)\n",
    "ax.set_ylabel('Average Price (in thousand)', size=12)\n",
    "ax.set_title('Average Prices per Square Meter', size=15)\n",
    "\n",
    "plt.show()"
   ]
  },
  {
   "cell_type": "markdown",
   "metadata": {},
   "source": [
    "#### As a final word, we see that Brussels has the highest price both for average and median calculation as well as the price per square meter for houses and apartments. Further analysis can be done on house and apartment seperately and  inspecting each province more in detail."
   ]
  },
  {
   "cell_type": "code",
   "execution_count": null,
   "metadata": {},
   "outputs": [],
   "source": []
  }
 ],
 "metadata": {
  "kernelspec": {
   "display_name": "Python 3",
   "language": "python",
   "name": "python3"
  },
  "language_info": {
   "codemirror_mode": {
    "name": "ipython",
    "version": 3
   },
   "file_extension": ".py",
   "mimetype": "text/x-python",
   "name": "python",
   "nbconvert_exporter": "python",
   "pygments_lexer": "ipython3",
   "version": "3.8.3"
  }
 },
 "nbformat": 4,
 "nbformat_minor": 4
}
